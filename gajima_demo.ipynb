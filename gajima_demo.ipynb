{
 "cells": [
  {
   "cell_type": "code",
   "execution_count": 1,
   "metadata": {},
   "outputs": [],
   "source": [
    "from loading import Gajima\n",
    "\n",
    "import threading\n",
    "import time\n",
    "import sys\n",
    "from typing import (\n",
    "    Union,\n",
    "    Optional,\n",
    "    Annotated,\n",
    "    Callable,\n",
    "    Generator,\n",
    "    Iterable\n",
    ")"
   ]
  },
  {
   "cell_type": "code",
   "execution_count": 2,
   "metadata": {},
   "outputs": [
    {
     "name": "stdout",
     "output_type": "stream",
     "text": [
      "| \u001b[1mCompleted\u001b[0m                     - 5.02s\n"
     ]
    }
   ],
   "source": [
    "aaa = Gajima(carousel=[('dots', 20, 4), 'spkinner'])\n",
    "aaa.run()\n",
    "time.sleep(5)\n",
    "aaa.stop()"
   ]
  },
  {
   "cell_type": "code",
   "execution_count": 3,
   "metadata": {},
   "outputs": [
    {
     "name": "stdout",
     "output_type": "stream",
     "text": [
      "2222222\n",
      "\n",
      "2222222riting Legacy         ......  | \u001b[0m - 0.9s\n",
      "\n",
      "2222222riting Legacy    ......       - \u001b[0m - 1.9s\n",
      "\n",
      "2222222riting Legacy ....         .. | \u001b[0m - 2.91s\n",
      "\n",
      "2222222riting Legacy         ......  - \u001b[0m - 3.91s\n",
      "\n",
      "| \u001b[1mCompleted\u001b[0m                         - 5.01s\n"
     ]
    }
   ],
   "source": [
    "with Gajima(\n",
    "    carousel=[('dots', 15, 6), 'spinner'],\n",
    "    prefix=\"| \",\n",
    "    desc=\"Writing Legacy\",\n",
    ") as gajima:\n",
    "    for i in range(5):\n",
    "        print(\"2222222\")\n",
    "        print()\n",
    "        time.sleep(1)\n"
   ]
  },
  {
   "cell_type": "code",
   "execution_count": 3,
   "metadata": {},
   "outputs": [
    {
     "data": {
      "text/plain": [
       "True"
      ]
     },
     "execution_count": 3,
     "metadata": {},
     "output_type": "execute_result"
    }
   ],
   "source": [
    "isinstance(aaa, Iterable)"
   ]
  },
  {
   "cell_type": "code",
   "execution_count": 4,
   "metadata": {},
   "outputs": [
    {
     "ename": "TypeError",
     "evalue": "iter() returned non-iterator of type 'Gajima'",
     "output_type": "error",
     "traceback": [
      "\u001b[0;31m---------------------------------------------------------------------------\u001b[0m",
      "\u001b[0;31mTypeError\u001b[0m                                 Traceback (most recent call last)",
      "\u001b[0;32m/tmp/ipykernel_351666/4204316215.py\u001b[0m in \u001b[0;36m<module>\u001b[0;34m\u001b[0m\n\u001b[0;32m----> 1\u001b[0;31m \u001b[0;32mfor\u001b[0m \u001b[0mi\u001b[0m \u001b[0;32min\u001b[0m \u001b[0maaa\u001b[0m\u001b[0;34m:\u001b[0m\u001b[0;34m\u001b[0m\u001b[0;34m\u001b[0m\u001b[0m\n\u001b[0m\u001b[1;32m      2\u001b[0m     \u001b[0mprint\u001b[0m\u001b[0;34m(\u001b[0m\u001b[0mi\u001b[0m\u001b[0;34m)\u001b[0m\u001b[0;34m\u001b[0m\u001b[0;34m\u001b[0m\u001b[0m\n",
      "\u001b[0;31mTypeError\u001b[0m: iter() returned non-iterator of type 'Gajima'"
     ]
    }
   ],
   "source": [
    "for i in aaa:\n",
    "    print(i)"
   ]
  },
  {
   "cell_type": "code",
   "execution_count": null,
   "metadata": {},
   "outputs": [],
   "source": []
  }
 ],
 "metadata": {
  "interpreter": {
   "hash": "159f4e407912a17e167f5db34c957ad4331db5f294b01a1425dfe1db5ae08f50"
  },
  "kernelspec": {
   "display_name": "Python 3.9.7 ('base')",
   "language": "python",
   "name": "python3"
  },
  "language_info": {
   "codemirror_mode": {
    "name": "ipython",
    "version": 3
   },
   "file_extension": ".py",
   "mimetype": "text/x-python",
   "name": "python",
   "nbconvert_exporter": "python",
   "pygments_lexer": "ipython3",
   "version": "3.9.7"
  },
  "orig_nbformat": 4
 },
 "nbformat": 4,
 "nbformat_minor": 2
}
