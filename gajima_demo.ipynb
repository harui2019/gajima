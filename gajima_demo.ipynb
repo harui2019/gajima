{
 "cells": [
  {
   "cell_type": "code",
   "execution_count": 1,
   "metadata": {},
   "outputs": [],
   "source": [
    "from loading import Gajima, grange\n",
    "\n",
    "import threading\n",
    "import time\n",
    "import sys\n",
    "from typing import (\n",
    "    Union,\n",
    "    Optional,\n",
    "    Annotated,\n",
    "    Callable,\n",
    "    Generator,\n",
    "    Iterable\n",
    ")"
   ]
  },
  {
   "cell_type": "code",
   "execution_count": 6,
   "metadata": {},
   "outputs": [],
   "source": [
    "import numpy as np"
   ]
  },
  {
   "cell_type": "code",
   "execution_count": 9,
   "metadata": {},
   "outputs": [
    {
     "name": "stdout",
     "output_type": "stream",
     "text": [
      "| \u001b[1mCompleted\u001b[0m - 30/30              - 15.25ss\n"
     ]
    }
   ],
   "source": [
    "for i in grange(30, desc='level1'):\n",
    "    # for j in grange(10, desc='level2'):\n",
    "        time.sleep(np.random.random())"
   ]
  },
  {
   "cell_type": "code",
   "execution_count": 12,
   "metadata": {},
   "outputs": [
    {
     "name": "stdout",
     "output_type": "stream",
     "text": [
      "| \u001b[1mCompleted\u001b[0m - 3/3                     - 5.04s| \u001b[1mlevel1\u001b[0m ....         .. - 16/30 - 179.03s[1mLoading\u001b[0m       ....          - - 0/3 - 0.35s\n",
      "| \u001b[1mlevel1\u001b[0m .....         . - 16/30 - 182.1s| \u001b[1mlevel2\u001b[0m ...         ... -  0/10 - 104.95s\r"
     ]
    }
   ],
   "source": [
    "aaa = Gajima([2,2,2],carousel=[('dots', 20, 4), 'spinner', 'basic'])\n",
    "aaa.run()\n",
    "time.sleep(5)\n",
    "aaa.stop()\n",
    "aaa.stop()"
   ]
  },
  {
   "cell_type": "code",
   "execution_count": 2,
   "metadata": {},
   "outputs": [
    {
     "name": "stdout",
     "output_type": "stream",
     "text": [
      "Loading is not active.\n"
     ]
    }
   ],
   "source": [
    "Gajima().stop()"
   ]
  },
  {
   "cell_type": "code",
   "execution_count": 30,
   "metadata": {},
   "outputs": [
    {
     "name": "stdout",
     "output_type": "stream",
     "text": [
      "| \u001b[1mlevel2\u001b[0m    ......       -  0/10 - 257.15s\r"
     ]
    },
    {
     "ename": "RuntimeError",
     "evalue": "cannot join current thread",
     "output_type": "error",
     "traceback": [
      "\u001b[0;31m---------------------------------------------------------------------------\u001b[0m",
      "\u001b[0;31mRuntimeError\u001b[0m                              Traceback (most recent call last)",
      "\u001b[0;32m/tmp/ipykernel_1694396/2251296465.py\u001b[0m in \u001b[0;36m<module>\u001b[0;34m\u001b[0m\n\u001b[0;32m----> 1\u001b[0;31m \u001b[0mthreading\u001b[0m\u001b[0;34m.\u001b[0m\u001b[0mcurrentThread\u001b[0m\u001b[0;34m(\u001b[0m\u001b[0;34m)\u001b[0m\u001b[0;34m.\u001b[0m\u001b[0mjoin\u001b[0m\u001b[0;34m(\u001b[0m\u001b[0;34m)\u001b[0m\u001b[0;34m\u001b[0m\u001b[0;34m\u001b[0m\u001b[0m\n\u001b[0m",
      "\u001b[0;32m~/anaconda3/lib/python3.9/threading.py\u001b[0m in \u001b[0;36mjoin\u001b[0;34m(self, timeout)\u001b[0m\n\u001b[1;32m   1048\u001b[0m             \u001b[0;32mraise\u001b[0m \u001b[0mRuntimeError\u001b[0m\u001b[0;34m(\u001b[0m\u001b[0;34m\"cannot join thread before it is started\"\u001b[0m\u001b[0;34m)\u001b[0m\u001b[0;34m\u001b[0m\u001b[0;34m\u001b[0m\u001b[0m\n\u001b[1;32m   1049\u001b[0m         \u001b[0;32mif\u001b[0m \u001b[0mself\u001b[0m \u001b[0;32mis\u001b[0m \u001b[0mcurrent_thread\u001b[0m\u001b[0;34m(\u001b[0m\u001b[0;34m)\u001b[0m\u001b[0;34m:\u001b[0m\u001b[0;34m\u001b[0m\u001b[0;34m\u001b[0m\u001b[0m\n\u001b[0;32m-> 1050\u001b[0;31m             \u001b[0;32mraise\u001b[0m \u001b[0mRuntimeError\u001b[0m\u001b[0;34m(\u001b[0m\u001b[0;34m\"cannot join current thread\"\u001b[0m\u001b[0;34m)\u001b[0m\u001b[0;34m\u001b[0m\u001b[0;34m\u001b[0m\u001b[0m\n\u001b[0m\u001b[1;32m   1051\u001b[0m \u001b[0;34m\u001b[0m\u001b[0m\n\u001b[1;32m   1052\u001b[0m         \u001b[0;32mif\u001b[0m \u001b[0mtimeout\u001b[0m \u001b[0;32mis\u001b[0m \u001b[0;32mNone\u001b[0m\u001b[0;34m:\u001b[0m\u001b[0;34m\u001b[0m\u001b[0;34m\u001b[0m\u001b[0m\n",
      "\u001b[0;31mRuntimeError\u001b[0m: cannot join current thread"
     ]
    }
   ],
   "source": [
    "threading.currentThread().join()"
   ]
  },
  {
   "cell_type": "code",
   "execution_count": 10,
   "metadata": {},
   "outputs": [
    {
     "name": "stdout",
     "output_type": "stream",
     "text": [
      "2222222                                                                                             \n",
      "0                                                                                                   \n",
      "2222222                                                                                             \n",
      "1                                                                                                   \n",
      "2222222                                                                                             \n",
      "2                                                                                                   \n",
      "2222222                                                                                             \n",
      "3                                                                                                   \n",
      "2222222                                                                                             \n",
      "4                                                                                                   \n",
      "2222222                                                                                             \n",
      "5                                                                                                   \n",
      "2222222                                                                                             \n",
      "6                                                                                                   \n",
      "2222222                                                                                             \n",
      "7                                                                                                   \n",
      "2222222                                                                                             \n",
      "8                                                                                                   \n",
      "2222222                                                                                             \n",
      "9                                                                                                   \n",
      "| \u001b[1mCompleted\u001b[0m - 10/10               - 10.04s10.04s\n",
      "| \u001b[1mCompleted\u001b[0m - 7/7                       - 10.14s\n"
     ]
    }
   ],
   "source": [
    "with Gajima(\n",
    "    [2,3,5,'gweerwe','fwe','ewf','333'],\n",
    "    carousel=[('dots', 15, 6), 'spinner', 'basic'],\n",
    "    prefix=\"| \",\n",
    "    desc=\"Writing Legacy\",\n",
    ") as gajima:\n",
    "    for i in gajima:\n",
    "        gajima.gprint(\"2222222\")\n",
    "        gajima.gprint(i)\n",
    "        time.sleep(1)\n"
   ]
  },
  {
   "cell_type": "code",
   "execution_count": 11,
   "metadata": {},
   "outputs": [
    {
     "name": "stdout",
     "output_type": "stream",
     "text": [
      "2 0                                                                                                 \n",
      "2                                                                                                   3s1\n",
      "2 2                                                                                                 \n",
      "2 3                                                                                                 \n",
      "2 4                                                                                                 \n",
      "2 5                                                                                                 \n",
      "2 6                                                                                                 \n",
      "2 7                                                                                                 \n",
      "2 8                                                                                                 \n",
      "2 9                                                                                                 \n",
      "| \u001b[1mCompleted\u001b[0m - 10/10               - 5.02s 5.02s\n",
      "3 0                                                                                                 \n",
      "3 1                                                                                                 \n",
      "3 2[1mWriting Legacy .....         .\\ - 1/7\u001b[0m - 6.02s                                                                                                    \n",
      "3 3                                                                                                 \n",
      "3 4                                                                                                 \n",
      "3 5                                                                                                 \n",
      "3 6                                                                                                 \n",
      "3 7                                                                                                 \n",
      "3 8                                                                                                 \n",
      "3 9                                                                                                 \n",
      "| \u001b[1mCompleted\u001b[0m - 10/10               - 5.02s 10.04s\n",
      "5 0                                                                                                 \n",
      "5 1                                                                                                 | \u001b[1mWriting Legacy .....         .| - 2/7\u001b[0m - 10.54s\n",
      "5 2[1mWriting Legacy     ......     / - 2/7\u001b[0m - 11.04s                                                                                                    \n",
      "5 3                                                                                                 \n",
      "5 4                                                                                                 \n",
      "5 5                                                                                                 \n",
      "5 6                                                                                                 \n",
      "5 7                                                                                                 \n",
      "5 8                                                                                                 \n",
      "5 9                                                                                                 \n",
      "| \u001b[1mCompleted\u001b[0m - 10/10               - 5.02s 15.06s\n",
      "gweerwe 0                                                                                           \n",
      "gweerwe 1                                                                                           \n",
      "gweerwe 2                                                                                           \n",
      "gweerwe 3                                                                                           \n",
      "gweerwe 4                                                                                           \n",
      "gweerwe 5                                                                                           \n",
      "gweerwe 6                                                                                           \n",
      "gweerwe 7                                                                                           \n",
      "gweerwe 8                                                                                           \n",
      "gweerwe 9                                                                                           \n",
      "| \u001b[1mCompleted\u001b[0m - 10/10               - 5.02s 20.08s\n",
      "fwe 0                                                                                               \n",
      "fwe 1                                                                                               \n",
      "fwe 2                                                                                               \n",
      "fwe 3                                                                                               \n",
      "fwe 4                                                                                               \n",
      "fwe 5                                                                                               \n",
      "fwe 6                                                                                               \n",
      "fwe 7                                                                                               \n",
      "fwe 8                                                                                               \n",
      "fwe 9                                                                                               \n",
      "| \u001b[1mCompleted\u001b[0m - 10/10               - 5.02s 25.1s\n",
      "ewf 0                                                                                               \n",
      "ewf 1                                                                                               \n",
      "ewf 2                                                                                               \n",
      "ewf 3                                                                                               \n",
      "ewf 4| \u001b[1mWriting Legacy .....         ./ - 5/7\u001b[0m - 27.11s                                       \n",
      "ewf 5                                                                                               \n",
      "ewf 6                                                                                               \n",
      "ewf 7                                                                                               \n",
      "ewf 8                                                                                               \n",
      "ewf 9                                                                                               \n",
      "| \u001b[1mCompleted\u001b[0m - 10/10               - 5.02s 30.12s\n",
      "333 0                                                                                               \n",
      "333 1                                                                                               \n",
      "333 2                                                                                               \n",
      "333 3                                                                                               \n",
      "333 4                                                                                               \n",
      "333 5                                                                                               \n",
      "333 6                                                                                               \n",
      "333 7                                                                                               \n",
      "333 8                                                                                               \n",
      "333 9                                                                                               \n",
      "| \u001b[1mCompleted\u001b[0m - 10/10               - 5.02s 35.14s\n",
      "| \u001b[1mCompleted\u001b[0m - 7/7                       - 35.24s\n"
     ]
    }
   ],
   "source": [
    "with Gajima(\n",
    "    [2,3,5,'gweerwe','fwe','ewf','333'],\n",
    "    carousel=[('dots', 15, 6), 'spinner', 'basic'],\n",
    "    prefix=\"| \",\n",
    "    desc=\"Writing Legacy\",\n",
    ") as gajima:\n",
    "    for i in gajima:\n",
    "        for j in grange(10):\n",
    "            gajima.gprint(i, j)\n",
    "            time.sleep(0.5)"
   ]
  },
  {
   "cell_type": "code",
   "execution_count": 6,
   "metadata": {},
   "outputs": [
    {
     "name": "stdout",
     "output_type": "stream",
     "text": [
      "dots 15 0                                        \n",
      "dots 15 1                                         - 0.4s\n",
      "dots 15 2                                         - 0.9s\n",
      "dots 15 3                                         - 1.41s\n",
      "dots 15 4                                         - 1.91s\n",
      "dots 15 5                                         - 2.41s\n",
      "dots 15 6                                         - 2.91s\n",
      "dots 15 7                                         - 3.41s\n",
      "dots 15 8                                         - 3.92s\n",
      "dots 15 9                                         - 4.42s\n",
      "| \u001b[1mCompleted\u001b[0m - 10/10                       - 5.02s\n",
      "spinner basic 0                                  \n",
      "basic 1 | \u001b[1mWriting Legacy     ......     | -  0/10\u001b[0m - 0.5s\n",
      "spinner | \u001b[1mWriting Legacy          ....../ -  1/10\u001b[0m - 1.0sbasic 2\n",
      "spinner basic 3                                   6.53s1s\n",
      "spinner basic 4                                   - 1.91s\n",
      "spinner basic 5                                   - 2.41s\n",
      "spinner basic 6                                   - 2.91s\n",
      "spinner basic 7                                   - 3.41s\n",
      "spinner basic 8                                   - 3.92s\n",
      "spinner basic 9                                   - 4.42s\n",
      "| \u001b[1mCompleted\u001b[0m - 10/10                       - 5.02s\n",
      "| \u001b[1mCompleted\u001b[0m - 2/2                       - 10.14s\n"
     ]
    }
   ],
   "source": [
    "for i, k in Gajima(\n",
    "    {'dots': 15, 'spinner': 'basic'}.items(),\n",
    "    carousel=[('dots', 15, 6), 'spinner', 'basic'],\n",
    "    prefix=\"| \",\n",
    "    desc=\"Writing Legacy\",\n",
    "):\n",
    "    for j in grange(\n",
    "        10,\n",
    "            carousel=[('dots', 15, 6), 'spinner', 'basic'],\n",
    "    prefix=\"| \",\n",
    "    desc=\"Writing Legacy\"\n",
    "    ):\n",
    "        gajima.gprint(i, k, j)\n",
    "        time.sleep(0.5)"
   ]
  },
  {
   "cell_type": "code",
   "execution_count": null,
   "metadata": {},
   "outputs": [],
   "source": []
  }
 ],
 "metadata": {
  "kernelspec": {
   "display_name": "Python 3.9.7 ('base')",
   "language": "python",
   "name": "python3"
  },
  "language_info": {
   "codemirror_mode": {
    "name": "ipython",
    "version": 3
   },
   "file_extension": ".py",
   "mimetype": "text/x-python",
   "name": "python",
   "nbconvert_exporter": "python",
   "pygments_lexer": "ipython3",
   "version": "3.9.7"
  },
  "orig_nbformat": 4,
  "vscode": {
   "interpreter": {
    "hash": "159f4e407912a17e167f5db34c957ad4331db5f294b01a1425dfe1db5ae08f50"
   }
  }
 },
 "nbformat": 4,
 "nbformat_minor": 2
}
