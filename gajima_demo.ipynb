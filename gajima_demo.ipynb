{
 "cells": [
  {
   "cell_type": "code",
   "execution_count": 1,
   "metadata": {},
   "outputs": [],
   "source": [
    "from loading import Gajima, grange\n",
    "\n",
    "import threading\n",
    "import time\n",
    "import sys\n",
    "from typing import (\n",
    "    Union,\n",
    "    Optional,\n",
    "    Annotated,\n",
    "    Callable,\n",
    "    Generator,\n",
    "    Iterable\n",
    ")"
   ]
  },
  {
   "cell_type": "code",
   "execution_count": 2,
   "metadata": {},
   "outputs": [
    {
     "name": "stdout",
     "output_type": "stream",
     "text": [
      "| \u001b[1mCompleted\u001b[0m - 100/100               - 0.1s\n"
     ]
    },
    {
     "data": {
      "text/plain": [
       "[0,\n",
       " 1,\n",
       " 2,\n",
       " 3,\n",
       " 4,\n",
       " 5,\n",
       " 6,\n",
       " 7,\n",
       " 8,\n",
       " 9,\n",
       " 10,\n",
       " 11,\n",
       " 12,\n",
       " 13,\n",
       " 14,\n",
       " 15,\n",
       " 16,\n",
       " 17,\n",
       " 18,\n",
       " 19,\n",
       " 20,\n",
       " 21,\n",
       " 22,\n",
       " 23,\n",
       " 24,\n",
       " 25,\n",
       " 26,\n",
       " 27,\n",
       " 28,\n",
       " 29,\n",
       " 30,\n",
       " 31,\n",
       " 32,\n",
       " 33,\n",
       " 34,\n",
       " 35,\n",
       " 36,\n",
       " 37,\n",
       " 38,\n",
       " 39,\n",
       " 40,\n",
       " 41,\n",
       " 42,\n",
       " 43,\n",
       " 44,\n",
       " 45,\n",
       " 46,\n",
       " 47,\n",
       " 48,\n",
       " 49,\n",
       " 50,\n",
       " 51,\n",
       " 52,\n",
       " 53,\n",
       " 54,\n",
       " 55,\n",
       " 56,\n",
       " 57,\n",
       " 58,\n",
       " 59,\n",
       " 60,\n",
       " 61,\n",
       " 62,\n",
       " 63,\n",
       " 64,\n",
       " 65,\n",
       " 66,\n",
       " 67,\n",
       " 68,\n",
       " 69,\n",
       " 70,\n",
       " 71,\n",
       " 72,\n",
       " 73,\n",
       " 74,\n",
       " 75,\n",
       " 76,\n",
       " 77,\n",
       " 78,\n",
       " 79,\n",
       " 80,\n",
       " 81,\n",
       " 82,\n",
       " 83,\n",
       " 84,\n",
       " 85,\n",
       " 86,\n",
       " 87,\n",
       " 88,\n",
       " 89,\n",
       " 90,\n",
       " 91,\n",
       " 92,\n",
       " 93,\n",
       " 94,\n",
       " 95,\n",
       " 96,\n",
       " 97,\n",
       " 98,\n",
       " 99]"
      ]
     },
     "execution_count": 2,
     "metadata": {},
     "output_type": "execute_result"
    }
   ],
   "source": [
    "[i for i in grange(100)]\n",
    "# for i in grange(10):\n",
    "#     time.sleep(0.5)"
   ]
  },
  {
   "cell_type": "code",
   "execution_count": 2,
   "metadata": {},
   "outputs": [
    {
     "name": "stdout",
     "output_type": "stream",
     "text": [
      "| \u001b[1mCompleted\u001b[0m - 3/3                     - 5.02s\n"
     ]
    }
   ],
   "source": [
    "aaa = Gajima([2,2,2],carousel=[('dots', 20, 4), 'spinner', 'basic'])\n",
    "aaa.run()\n",
    "time.sleep(5)\n",
    "aaa.stop()\n",
    "aaa.stop()"
   ]
  },
  {
   "cell_type": "code",
   "execution_count": null,
   "metadata": {},
   "outputs": [],
   "source": [
    "range"
   ]
  },
  {
   "cell_type": "code",
   "execution_count": null,
   "metadata": {},
   "outputs": [],
   "source": [
    "import tqdm"
   ]
  },
  {
   "cell_type": "code",
   "execution_count": 4,
   "metadata": {},
   "outputs": [
    {
     "data": {
      "text/plain": [
       "<generator object Gajima.spinning_cursor at 0x7fa2ff49fe40>"
      ]
     },
     "execution_count": 4,
     "metadata": {},
     "output_type": "execute_result"
    }
   ],
   "source": [
    "aaa.carousels[1]"
   ]
  },
  {
   "cell_type": "code",
   "execution_count": 10,
   "metadata": {},
   "outputs": [
    {
     "name": "stdout",
     "output_type": "stream",
     "text": [
      "2222222                                                                                             \n",
      "0                                                                                                   \n",
      "2222222                                                                                             \n",
      "1                                                                                                   \n",
      "2222222                                                                                             \n",
      "2                                                                                                   \n",
      "2222222                                                                                             \n",
      "3                                                                                                   \n",
      "2222222                                                                                             \n",
      "4                                                                                                   \n",
      "2222222                                                                                             \n",
      "5                                                                                                   \n",
      "2222222                                                                                             \n",
      "6                                                                                                   \n",
      "2222222                                                                                             \n",
      "7                                                                                                   \n",
      "2222222                                                                                             \n",
      "8                                                                                                   \n",
      "2222222                                                                                             \n",
      "9                                                                                                   \n",
      "| \u001b[1mCompleted\u001b[0m - 10/10               - 10.04s10.04s\n",
      "| \u001b[1mCompleted\u001b[0m - 7/7                       - 10.14s\n"
     ]
    }
   ],
   "source": [
    "with Gajima(\n",
    "    [2,3,5,'gweerwe','fwe','ewf','333'],\n",
    "    carousel=[('dots', 15, 6), 'spinner', 'basic'],\n",
    "    prefix=\"| \",\n",
    "    desc=\"Writing Legacy\",\n",
    ") as gajima:\n",
    "    for i in gajima:\n",
    "        gajima.gprint(\"2222222\")\n",
    "        gajima.gprint(i)\n",
    "        time.sleep(1)\n"
   ]
  },
  {
   "cell_type": "code",
   "execution_count": 11,
   "metadata": {},
   "outputs": [
    {
     "name": "stdout",
     "output_type": "stream",
     "text": [
      "2 0                                                                                                 \n",
      "2                                                                                                   3s1\n",
      "2 2                                                                                                 \n",
      "2 3                                                                                                 \n",
      "2 4                                                                                                 \n",
      "2 5                                                                                                 \n",
      "2 6                                                                                                 \n",
      "2 7                                                                                                 \n",
      "2 8                                                                                                 \n",
      "2 9                                                                                                 \n",
      "| \u001b[1mCompleted\u001b[0m - 10/10               - 5.02s 5.02s\n",
      "3 0                                                                                                 \n",
      "3 1                                                                                                 \n",
      "3 2[1mWriting Legacy .....         .\\ - 1/7\u001b[0m - 6.02s                                                                                                    \n",
      "3 3                                                                                                 \n",
      "3 4                                                                                                 \n",
      "3 5                                                                                                 \n",
      "3 6                                                                                                 \n",
      "3 7                                                                                                 \n",
      "3 8                                                                                                 \n",
      "3 9                                                                                                 \n",
      "| \u001b[1mCompleted\u001b[0m - 10/10               - 5.02s 10.04s\n",
      "5 0                                                                                                 \n",
      "5 1                                                                                                 | \u001b[1mWriting Legacy .....         .| - 2/7\u001b[0m - 10.54s\n",
      "5 2[1mWriting Legacy     ......     / - 2/7\u001b[0m - 11.04s                                                                                                    \n",
      "5 3                                                                                                 \n",
      "5 4                                                                                                 \n",
      "5 5                                                                                                 \n",
      "5 6                                                                                                 \n",
      "5 7                                                                                                 \n",
      "5 8                                                                                                 \n",
      "5 9                                                                                                 \n",
      "| \u001b[1mCompleted\u001b[0m - 10/10               - 5.02s 15.06s\n",
      "gweerwe 0                                                                                           \n",
      "gweerwe 1                                                                                           \n",
      "gweerwe 2                                                                                           \n",
      "gweerwe 3                                                                                           \n",
      "gweerwe 4                                                                                           \n",
      "gweerwe 5                                                                                           \n",
      "gweerwe 6                                                                                           \n",
      "gweerwe 7                                                                                           \n",
      "gweerwe 8                                                                                           \n",
      "gweerwe 9                                                                                           \n",
      "| \u001b[1mCompleted\u001b[0m - 10/10               - 5.02s 20.08s\n",
      "fwe 0                                                                                               \n",
      "fwe 1                                                                                               \n",
      "fwe 2                                                                                               \n",
      "fwe 3                                                                                               \n",
      "fwe 4                                                                                               \n",
      "fwe 5                                                                                               \n",
      "fwe 6                                                                                               \n",
      "fwe 7                                                                                               \n",
      "fwe 8                                                                                               \n",
      "fwe 9                                                                                               \n",
      "| \u001b[1mCompleted\u001b[0m - 10/10               - 5.02s 25.1s\n",
      "ewf 0                                                                                               \n",
      "ewf 1                                                                                               \n",
      "ewf 2                                                                                               \n",
      "ewf 3                                                                                               \n",
      "ewf 4| \u001b[1mWriting Legacy .....         ./ - 5/7\u001b[0m - 27.11s                                       \n",
      "ewf 5                                                                                               \n",
      "ewf 6                                                                                               \n",
      "ewf 7                                                                                               \n",
      "ewf 8                                                                                               \n",
      "ewf 9                                                                                               \n",
      "| \u001b[1mCompleted\u001b[0m - 10/10               - 5.02s 30.12s\n",
      "333 0                                                                                               \n",
      "333 1                                                                                               \n",
      "333 2                                                                                               \n",
      "333 3                                                                                               \n",
      "333 4                                                                                               \n",
      "333 5                                                                                               \n",
      "333 6                                                                                               \n",
      "333 7                                                                                               \n",
      "333 8                                                                                               \n",
      "333 9                                                                                               \n",
      "| \u001b[1mCompleted\u001b[0m - 10/10               - 5.02s 35.14s\n",
      "| \u001b[1mCompleted\u001b[0m - 7/7                       - 35.24s\n"
     ]
    }
   ],
   "source": [
    "with Gajima(\n",
    "    [2,3,5,'gweerwe','fwe','ewf','333'],\n",
    "    carousel=[('dots', 15, 6), 'spinner', 'basic'],\n",
    "    prefix=\"| \",\n",
    "    desc=\"Writing Legacy\",\n",
    ") as gajima:\n",
    "    for i in gajima:\n",
    "        for j in grange(10):\n",
    "            gajima.gprint(i, j)\n",
    "            time.sleep(0.5)"
   ]
  },
  {
   "cell_type": "code",
   "execution_count": 7,
   "metadata": {},
   "outputs": [],
   "source": [
    "for i in aaa:\n",
    "    print(i)"
   ]
  },
  {
   "cell_type": "code",
   "execution_count": 8,
   "metadata": {},
   "outputs": [
    {
     "name": "stdout",
     "output_type": "stream",
     "text": [
      "44422\n"
     ]
    }
   ],
   "source": [
    "print(\"22222\\r444\")"
   ]
  },
  {
   "cell_type": "markdown",
   "metadata": {},
   "source": []
  },
  {
   "cell_type": "code",
   "execution_count": 25,
   "metadata": {},
   "outputs": [
    {
     "name": "stdout",
     "output_type": "stream",
     "text": [
      "dldldldd\n",
      "\u001b[FThis line is replaced one\n",
      "\u001b[FMore text is added to the previous line\n",
      "More text is added to the previous line\n"
     ]
    }
   ],
   "source": [
    "print('dldldldd')\n",
    "import sys\n",
    "sys.stdout.write(\"\\033[F\")\n",
    "sys.stdout.write(\"This line is replaced one\\n\")\n",
    "sys.stdout.write(\"\\033[F\")\n",
    "sys.stdout.write(\"More text is added to the previous line\")\n",
    "print()\n",
    "print(\"More text is added to the previous line\")"
   ]
  },
  {
   "cell_type": "code",
   "execution_count": null,
   "metadata": {},
   "outputs": [],
   "source": []
  }
 ],
 "metadata": {
  "interpreter": {
   "hash": "159f4e407912a17e167f5db34c957ad4331db5f294b01a1425dfe1db5ae08f50"
  },
  "kernelspec": {
   "display_name": "Python 3.9.7 ('base')",
   "language": "python",
   "name": "python3"
  },
  "language_info": {
   "codemirror_mode": {
    "name": "ipython",
    "version": 3
   },
   "file_extension": ".py",
   "mimetype": "text/x-python",
   "name": "python",
   "nbconvert_exporter": "python",
   "pygments_lexer": "ipython3",
   "version": "3.9.7"
  },
  "orig_nbformat": 4
 },
 "nbformat": 4,
 "nbformat_minor": 2
}
