{
 "cells": [
  {
   "cell_type": "code",
   "execution_count": 1,
   "metadata": {},
   "outputs": [],
   "source": [
    "from loading import Gajima\n",
    "\n",
    "import threading\n",
    "import time\n",
    "import sys"
   ]
  },
  {
   "cell_type": "code",
   "execution_count": 2,
   "metadata": {},
   "outputs": [
    {
     "name": "stdout",
     "output_type": "stream",
     "text": [
      "|\u001b[1m Completed                      \u001b[0m - 5.02s\r"
     ]
    }
   ],
   "source": [
    "aaa = Gajima(carousel=[('dots', 20, 4), 'spkinner'])\n",
    "aaa.run()\n",
    "time.sleep(5)\n",
    "aaa.stop()"
   ]
  },
  {
   "cell_type": "code",
   "execution_count": 5,
   "metadata": {},
   "outputs": [
    {
     "name": "stdout",
     "output_type": "stream",
     "text": [
      "2222222\n",
      "\n",
      "2222222Loading         ......  | \u001b[0m - 0.9s\n",
      "\n",
      "2222222Loading    ......       - \u001b[0m - 1.91s\n",
      "\n",
      "2222222Loading ....         .. | \u001b[0m - 2.91s\n",
      "\n",
      "2222222Loading         ......  - \u001b[0m - 3.91s\n",
      "\n",
      "|\u001b[1m Completed                   \u001b[0m - 5.02s\r"
     ]
    }
   ],
   "source": [
    "with Gajima(carousel=[('dots', 15, 6), 'spinner']):\n",
    "    for i in range(5):\n",
    "        print(\"2222222\")\n",
    "        print()\n",
    "        time.sleep(1) "
   ]
  },
  {
   "cell_type": "code",
   "execution_count": null,
   "metadata": {},
   "outputs": [],
   "source": []
  },
  {
   "cell_type": "code",
   "execution_count": null,
   "metadata": {},
   "outputs": [],
   "source": []
  }
 ],
 "metadata": {
  "interpreter": {
   "hash": "159f4e407912a17e167f5db34c957ad4331db5f294b01a1425dfe1db5ae08f50"
  },
  "kernelspec": {
   "display_name": "Python 3.9.7 ('base')",
   "language": "python",
   "name": "python3"
  },
  "language_info": {
   "codemirror_mode": {
    "name": "ipython",
    "version": 3
   },
   "file_extension": ".py",
   "mimetype": "text/x-python",
   "name": "python",
   "nbconvert_exporter": "python",
   "pygments_lexer": "ipython3",
   "version": "3.9.7"
  },
  "orig_nbformat": 4
 },
 "nbformat": 4,
 "nbformat_minor": 2
}
